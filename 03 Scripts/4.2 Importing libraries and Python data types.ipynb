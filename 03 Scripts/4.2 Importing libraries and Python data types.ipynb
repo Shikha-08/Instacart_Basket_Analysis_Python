{
 "cells": [
  {
   "cell_type": "markdown",
   "id": "3dc2ef0c-57d5-4449-8591-99521f7c4c7d",
   "metadata": {},
   "source": [
    "# Task 4.2  \n",
    "\n",
    "## Contents:  \n",
    "\n",
    "### Importing libraries \n",
    "### Python data types"
   ]
  },
  {
   "cell_type": "markdown",
   "id": "a85b54d4-6488-4ff5-9647-62ebbf0c2095",
   "metadata": {},
   "source": [
    "# 01. Importing libraries"
   ]
  },
  {
   "cell_type": "code",
   "execution_count": 49,
   "id": "4801d195-06e4-4464-9448-bd818c4880f2",
   "metadata": {},
   "outputs": [],
   "source": [
    "# import libraries\n",
    "import pandas as pd\n",
    "import numpy as np\n",
    "import os"
   ]
  },
  {
   "cell_type": "markdown",
   "id": "0c5e4a19-2999-46f0-8b17-a85dbc25ea52",
   "metadata": {},
   "source": [
    "# 02. Python data types"
   ]
  },
  {
   "cell_type": "code",
   "execution_count": 53,
   "id": "ac394e61-3448-4054-9e08-e9447b99a58c",
   "metadata": {},
   "outputs": [
    {
     "data": {
      "text/plain": [
       "100"
      ]
     },
     "execution_count": 53,
     "metadata": {},
     "output_type": "execute_result"
    }
   ],
   "source": [
    "# Code 3 different ways of reaching a result of 100 by adding or subtracting numeric variables.\n",
    "\n",
    "x = 50\n",
    "y = 50\n",
    "x + y"
   ]
  },
  {
   "cell_type": "code",
   "execution_count": 55,
   "id": "07a8b8f9-b6b0-4124-b7ea-06dd3aa2470e",
   "metadata": {},
   "outputs": [],
   "source": [
    "x = 150 \n",
    "y = 50"
   ]
  },
  {
   "cell_type": "code",
   "execution_count": 57,
   "id": "5bc5d2e8-0f3e-4dd8-b698-57317e74d03d",
   "metadata": {},
   "outputs": [
    {
     "name": "stdout",
     "output_type": "stream",
     "text": [
      "100\n"
     ]
    }
   ],
   "source": [
    "c = x - y\n",
    "print(c)"
   ]
  },
  {
   "cell_type": "code",
   "execution_count": 59,
   "id": "bef81574-adff-4536-a96f-3a779ffe8384",
   "metadata": {},
   "outputs": [
    {
     "name": "stdout",
     "output_type": "stream",
     "text": [
      "100\n"
     ]
    }
   ],
   "source": [
    "x = 50\n",
    "y = 75\n",
    "c = 25\n",
    "\n",
    "result = (x+y)-c\n",
    "print(result)"
   ]
  },
  {
   "cell_type": "code",
   "execution_count": 68,
   "id": "9ac97129-6f24-4f0a-b2ee-b993cec4bdc6",
   "metadata": {},
   "outputs": [
    {
     "data": {
      "text/plain": [
       "2.5"
      ]
     },
     "execution_count": 68,
     "metadata": {},
     "output_type": "execute_result"
    }
   ],
   "source": [
    "# Code 2 floating-point variables and divide them by each other.\n",
    "\n",
    "x = 5.5\n",
    "y = 2.2\n",
    "\n",
    "x / y"
   ]
  },
  {
   "cell_type": "code",
   "execution_count": 70,
   "id": "f657e592-4922-44fb-9085-d08ff45d257a",
   "metadata": {},
   "outputs": [
    {
     "data": {
      "text/plain": [
       "'shikha Kamboj'"
      ]
     },
     "execution_count": 70,
     "metadata": {},
     "output_type": "execute_result"
    }
   ],
   "source": [
    "# Construct a short word made of separate strings (you’ll need to concatenate some strings!).\n",
    "\n",
    "a = 'shikha'\n",
    "b = ' Kamboj'\n",
    "\n",
    "a + b"
   ]
  },
  {
   "cell_type": "code",
   "execution_count": 74,
   "id": "bd1d621a-60bf-4180-97c3-2b3e717e5b9d",
   "metadata": {},
   "outputs": [
    {
     "name": "stdout",
     "output_type": "stream",
     "text": [
      "Python is fun!\n"
     ]
    }
   ],
   "source": [
    "# Construct 2 short sentences made of separate strings.\n",
    "\n",
    "# first sentence\n",
    "part1 = \"Python\"\n",
    "part2 = \"is\"\n",
    "part3 = \"fun!\"\n",
    "sentence1 = part1 + \" \" + part2 + \" \" + part3\n",
    "print(sentence1)"
   ]
  },
  {
   "cell_type": "code",
   "execution_count": 78,
   "id": "84df8a9d-fc65-4b26-a2b1-3a5289832493",
   "metadata": {},
   "outputs": [
    {
     "data": {
      "text/plain": [
       "\"Let's learn more.\""
      ]
     },
     "execution_count": 78,
     "metadata": {},
     "output_type": "execute_result"
    }
   ],
   "source": [
    "# second sentence\n",
    "\n",
    "part4 = \"Let's\"\n",
    "part5 = \"learn\"\n",
    "part6 = \"more.\"\n",
    "sentence2 = part4 + \" \" + part5 + \" \" + part6\n",
    "sentence2"
   ]
  },
  {
   "cell_type": "code",
   "execution_count": null,
   "id": "705cb62f-be1f-405d-b125-f434784191ee",
   "metadata": {},
   "outputs": [],
   "source": []
  }
 ],
 "metadata": {
  "kernelspec": {
   "display_name": "Python 3 (ipykernel)",
   "language": "python",
   "name": "python3"
  },
  "language_info": {
   "codemirror_mode": {
    "name": "ipython",
    "version": 3
   },
   "file_extension": ".py",
   "mimetype": "text/x-python",
   "name": "python",
   "nbconvert_exporter": "python",
   "pygments_lexer": "ipython3",
   "version": "3.12.7"
  }
 },
 "nbformat": 4,
 "nbformat_minor": 5
}
